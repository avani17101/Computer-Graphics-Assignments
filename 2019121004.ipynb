{
 "cells": [
  {
   "cell_type": "markdown",
   "metadata": {},
   "source": [
    "Avani Gupta <br>\n",
    "2019121004"
   ]
  },
  {
   "cell_type": "code",
   "execution_count": 1,
   "metadata": {},
   "outputs": [],
   "source": [
    "from sympy import *\n",
    "from sympy.matrices import *"
   ]
  },
  {
   "cell_type": "code",
   "execution_count": 2,
   "metadata": {},
   "outputs": [],
   "source": [
    "theta, psi, phi = symbols('theta psi phi')"
   ]
  },
  {
   "cell_type": "markdown",
   "metadata": {},
   "source": [
    "### Gimbal lock\n",
    "Gimbal lock is the loss of one degree of freedom in a 3D coordinate system when two of axis while rotating align parallel to each other and the system degenerates to 2D space."
   ]
  },
  {
   "cell_type": "code",
   "execution_count": 3,
   "metadata": {},
   "outputs": [
    {
     "data": {
      "text/latex": [
       "$\\displaystyle \\left[\\begin{matrix}1 & 0 & 0\\\\0 & \\cos{\\left(\\theta \\right)} & \\sin{\\left(\\theta \\right)}\\\\0 & - \\sin{\\left(\\theta \\right)} & \\cos{\\left(\\theta \\right)}\\end{matrix}\\right]$"
      ],
      "text/plain": [
       "Matrix([\n",
       "[1,           0,          0],\n",
       "[0,  cos(theta), sin(theta)],\n",
       "[0, -sin(theta), cos(theta)]])"
      ]
     },
     "execution_count": 3,
     "metadata": {},
     "output_type": "execute_result"
    }
   ],
   "source": [
    "Rx = rot_axis1(theta)\n",
    "Rx"
   ]
  },
  {
   "cell_type": "code",
   "execution_count": 4,
   "metadata": {},
   "outputs": [
    {
     "data": {
      "text/latex": [
       "$\\displaystyle \\left[\\begin{matrix}\\cos{\\left(\\psi \\right)} & 0 & - \\sin{\\left(\\psi \\right)}\\\\0 & 1 & 0\\\\\\sin{\\left(\\psi \\right)} & 0 & \\cos{\\left(\\psi \\right)}\\end{matrix}\\right]$"
      ],
      "text/plain": [
       "Matrix([\n",
       "[cos(psi), 0, -sin(psi)],\n",
       "[       0, 1,         0],\n",
       "[sin(psi), 0,  cos(psi)]])"
      ]
     },
     "execution_count": 4,
     "metadata": {},
     "output_type": "execute_result"
    }
   ],
   "source": [
    "Ry =  rot_axis2(psi)\n",
    "Ry"
   ]
  },
  {
   "cell_type": "code",
   "execution_count": 5,
   "metadata": {},
   "outputs": [
    {
     "data": {
      "text/latex": [
       "$\\displaystyle \\left[\\begin{matrix}\\cos{\\left(\\phi \\right)} & \\sin{\\left(\\phi \\right)} & 0\\\\- \\sin{\\left(\\phi \\right)} & \\cos{\\left(\\phi \\right)} & 0\\\\0 & 0 & 1\\end{matrix}\\right]$"
      ],
      "text/plain": [
       "Matrix([\n",
       "[ cos(phi), sin(phi), 0],\n",
       "[-sin(phi), cos(phi), 0],\n",
       "[        0,        0, 1]])"
      ]
     },
     "execution_count": 5,
     "metadata": {},
     "output_type": "execute_result"
    }
   ],
   "source": [
    "Rz = rot_axis3(phi)\n",
    "Rz"
   ]
  },
  {
   "cell_type": "code",
   "execution_count": 6,
   "metadata": {},
   "outputs": [
    {
     "data": {
      "text/latex": [
       "$\\displaystyle \\left[\\begin{matrix}0 & \\sin{\\left(\\phi + \\theta \\right)} & - \\cos{\\left(\\phi + \\theta \\right)}\\\\0 & \\cos{\\left(\\phi + \\theta \\right)} & \\sin{\\left(\\phi + \\theta \\right)}\\\\1 & 0 & 0\\end{matrix}\\right]$"
      ],
      "text/plain": [
       "Matrix([\n",
       "[0, sin(phi + theta), -cos(phi + theta)],\n",
       "[0, cos(phi + theta),  sin(phi + theta)],\n",
       "[1,                0,                 0]])"
      ]
     },
     "execution_count": 6,
     "metadata": {},
     "output_type": "execute_result"
    }
   ],
   "source": [
    "Rxyz = Rz * Ry * Rx # Read in reverse rotate around x then around y finally around z\n",
    "simplify(Rxyz.subs(psi, pi/2))\n",
    "\n"
   ]
  },
  {
   "cell_type": "code",
   "execution_count": 7,
   "metadata": {},
   "outputs": [
    {
     "data": {
      "text/latex": [
       "$\\displaystyle \\left[\\begin{matrix}0 & \\cos{\\left(\\psi - \\theta \\right)} & - \\sin{\\left(\\psi - \\theta \\right)}\\\\-1 & 0 & 0\\\\0 & \\sin{\\left(\\psi - \\theta \\right)} & \\cos{\\left(\\psi - \\theta \\right)}\\end{matrix}\\right]$"
      ],
      "text/plain": [
       "Matrix([\n",
       "[ 0, cos(psi - theta), -sin(psi - theta)],\n",
       "[-1,                0,                 0],\n",
       "[ 0, sin(psi - theta),  cos(psi - theta)]])"
      ]
     },
     "execution_count": 7,
     "metadata": {},
     "output_type": "execute_result"
    }
   ],
   "source": [
    "Rxzy = Ry * Rz * Rx\n",
    "simplify(Rxzy.subs(phi, pi/2))"
   ]
  },
  {
   "cell_type": "code",
   "execution_count": 8,
   "metadata": {},
   "outputs": [
    {
     "data": {
      "text/latex": [
       "$\\displaystyle \\left[\\begin{matrix}0 & 0 & 1\\\\- \\sin{\\left(\\phi + \\theta \\right)} & \\cos{\\left(\\phi + \\theta \\right)} & 0\\\\- \\cos{\\left(\\phi + \\theta \\right)} & - \\sin{\\left(\\phi + \\theta \\right)} & 0\\end{matrix}\\right]$"
      ],
      "text/plain": [
       "Matrix([\n",
       "[                0,                 0, 1],\n",
       "[-sin(phi + theta),  cos(phi + theta), 0],\n",
       "[-cos(phi + theta), -sin(phi + theta), 0]])"
      ]
     },
     "execution_count": 8,
     "metadata": {},
     "output_type": "execute_result"
    }
   ],
   "source": [
    "Rzyx = Rx * Ry * Rz\n",
    "simplify(Rzyx.subs(psi, 3*pi/2))\n"
   ]
  },
  {
   "cell_type": "code",
   "execution_count": 9,
   "metadata": {},
   "outputs": [
    {
     "data": {
      "text/latex": [
       "$\\displaystyle \\left[\\begin{matrix}\\cos{\\left(\\phi - \\psi \\right)} & 0 & \\sin{\\left(\\phi - \\psi \\right)}\\\\- \\sin{\\left(\\phi - \\psi \\right)} & 0 & \\cos{\\left(\\phi - \\psi \\right)}\\\\0 & -1 & 0\\end{matrix}\\right]$"
      ],
      "text/plain": [
       "Matrix([\n",
       "[ cos(phi - psi),  0, sin(phi - psi)],\n",
       "[-sin(phi - psi),  0, cos(phi - psi)],\n",
       "[              0, -1,              0]])"
      ]
     },
     "execution_count": 9,
     "metadata": {},
     "output_type": "execute_result"
    }
   ],
   "source": [
    "Ryxz = Rz * Rx * Ry\n",
    "simplify(Ryxz.subs(theta, pi/2))\n"
   ]
  },
  {
   "cell_type": "code",
   "execution_count": 10,
   "metadata": {},
   "outputs": [
    {
     "data": {
      "text/latex": [
       "$\\displaystyle \\left[\\begin{matrix}\\cos{\\left(\\phi - \\psi \\right)} & 0 & \\sin{\\left(\\phi - \\psi \\right)}\\\\- \\sin{\\left(\\phi - \\psi \\right)} & 0 & \\cos{\\left(\\phi - \\psi \\right)}\\\\0 & -1 & 0\\end{matrix}\\right]$"
      ],
      "text/plain": [
       "Matrix([\n",
       "[ cos(phi - psi),  0, sin(phi - psi)],\n",
       "[-sin(phi - psi),  0, cos(phi - psi)],\n",
       "[              0, -1,              0]])"
      ]
     },
     "execution_count": 10,
     "metadata": {},
     "output_type": "execute_result"
    }
   ],
   "source": [
    "Ryzx = Rx * Rz * Ry\n",
    "simplify(Ryxz.subs(theta, pi/2))"
   ]
  },
  {
   "cell_type": "code",
   "execution_count": 11,
   "metadata": {},
   "outputs": [
    {
     "data": {
      "text/latex": [
       "$\\displaystyle \\left[\\begin{matrix}\\cos{\\left(\\phi - \\psi \\right)} & \\sin{\\left(\\phi - \\psi \\right)} & 0\\\\0 & 0 & -1\\\\- \\sin{\\left(\\phi - \\psi \\right)} & \\cos{\\left(\\phi - \\psi \\right)} & 0\\end{matrix}\\right]$"
      ],
      "text/plain": [
       "Matrix([\n",
       "[ cos(phi - psi), sin(phi - psi),  0],\n",
       "[              0,              0, -1],\n",
       "[-sin(phi - psi), cos(phi - psi),  0]])"
      ]
     },
     "execution_count": 11,
     "metadata": {},
     "output_type": "execute_result"
    }
   ],
   "source": [
    "Rzxy = Ry * Rx * Rz\n",
    "simplify(Rzxy.subs(theta, 3*pi/2))"
   ]
  },
  {
   "cell_type": "code",
   "execution_count": 12,
   "metadata": {},
   "outputs": [
    {
     "data": {
      "text/latex": [
       "$\\displaystyle \\left[\\begin{matrix}0 & 0 & 1\\\\- \\sin{\\left(\\phi + \\theta \\right)} & \\cos{\\left(\\phi + \\theta \\right)} & 0\\\\- \\cos{\\left(\\phi + \\theta \\right)} & - \\sin{\\left(\\phi + \\theta \\right)} & 0\\end{matrix}\\right]$"
      ],
      "text/plain": [
       "Matrix([\n",
       "[                0,                 0, 1],\n",
       "[-sin(phi + theta),  cos(phi + theta), 0],\n",
       "[-cos(phi + theta), -sin(phi + theta), 0]])"
      ]
     },
     "execution_count": 12,
     "metadata": {},
     "output_type": "execute_result"
    }
   ],
   "source": [
    "Rzyx = Rx * Ry * Rz\n",
    "simplify(Rzyx.subs(psi, 3*pi/2))"
   ]
  },
  {
   "cell_type": "code",
   "execution_count": 14,
   "metadata": {},
   "outputs": [
    {
     "data": {
      "text/latex": [
       "$\\displaystyle \\left[\\begin{matrix}0 & \\sin{\\left(\\phi + \\theta \\right)} & - \\cos{\\left(\\phi + \\theta \\right)}\\\\0 & \\cos{\\left(\\phi + \\theta \\right)} & \\sin{\\left(\\phi + \\theta \\right)}\\\\1 & 0 & 0\\end{matrix}\\right]$"
      ],
      "text/plain": [
       "Matrix([\n",
       "[0, sin(phi + theta), -cos(phi + theta)],\n",
       "[0, cos(phi + theta),  sin(phi + theta)],\n",
       "[1,                0,                 0]])"
      ]
     },
     "execution_count": 14,
     "metadata": {},
     "output_type": "execute_result"
    }
   ],
   "source": [
    "Rxyz_new = simplify(Rxyz.subs(psi, pi/2))\n",
    "Rxyz_new"
   ]
  },
  {
   "cell_type": "code",
   "execution_count": 15,
   "metadata": {},
   "outputs": [
    {
     "data": {
      "text/latex": [
       "$\\displaystyle \\left[\\begin{matrix}0 & 1 & 0\\\\0 & 0 & 1\\\\1 & 0 & 0\\end{matrix}\\right]$"
      ],
      "text/plain": [
       "Matrix([\n",
       "[0, 1, 0],\n",
       "[0, 0, 1],\n",
       "[1, 0, 0]])"
      ]
     },
     "execution_count": 15,
     "metadata": {},
     "output_type": "execute_result"
    }
   ],
   "source": [
    "Rxyz_new.subs(((phi, pi/3), (theta, pi/6)))"
   ]
  },
  {
   "cell_type": "code",
   "execution_count": 16,
   "metadata": {},
   "outputs": [
    {
     "data": {
      "text/latex": [
       "$\\displaystyle \\left[\\begin{matrix}0 & 1 & 0\\\\0 & 0 & 1\\\\1 & 0 & 0\\end{matrix}\\right]$"
      ],
      "text/plain": [
       "Matrix([\n",
       "[0, 1, 0],\n",
       "[0, 0, 1],\n",
       "[1, 0, 0]])"
      ]
     },
     "execution_count": 16,
     "metadata": {},
     "output_type": "execute_result"
    }
   ],
   "source": [
    "Rxyz_new.subs(((phi, pi/6), (theta, pi/3)))"
   ]
  },
  {
   "cell_type": "markdown",
   "metadata": {},
   "source": [
    "#### Avoiding Gimble Locks\n",
    "Knowing order of rotation helps to avoid Gimbal lock. \n",
    "Gimbal Lock occurs on the second gimbal. \n",
    "Also, looking for -1/1 value in rotation matrix and handling that explicitly helps to avoid gimbal lock\n",
    "\n"
   ]
  }
 ],
 "metadata": {
  "kernelspec": {
   "display_name": "Python 3",
   "language": "python",
   "name": "python3"
  },
  "language_info": {
   "codemirror_mode": {
    "name": "ipython",
    "version": 3
   },
   "file_extension": ".py",
   "mimetype": "text/x-python",
   "name": "python",
   "nbconvert_exporter": "python",
   "pygments_lexer": "ipython3",
   "version": "3.8.5"
  }
 },
 "nbformat": 4,
 "nbformat_minor": 1
}
